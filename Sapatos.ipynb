{
  "nbformat": 4,
  "nbformat_minor": 0,
  "metadata": {
    "colab": {
      "name": "Sapatos.ipynb",
      "provenance": [],
      "collapsed_sections": [],
      "authorship_tag": "ABX9TyPUNVDv7t8ZSNBbdEW+7hbd",
      "include_colab_link": true
    },
    "kernelspec": {
      "name": "python3",
      "display_name": "Python 3"
    },
    "language_info": {
      "name": "python"
    }
  },
  "cells": [
    {
      "cell_type": "markdown",
      "metadata": {
        "id": "view-in-github",
        "colab_type": "text"
      },
      "source": [
        "<a href=\"https://colab.research.google.com/github/JonathanYuri/Redes-Neurais/blob/main/Sapatos.ipynb\" target=\"_parent\"><img src=\"https://colab.research.google.com/assets/colab-badge.svg\" alt=\"Open In Colab\"/></a>"
      ]
    },
    {
      "cell_type": "code",
      "metadata": {
        "id": "q3KzJyjv3rnA"
      },
      "source": [
        "import tensorflow as tf\n",
        "\n",
        "mnist = tf.keras.datasets.fashion_mnist\n",
        "(training_images, training_labels), (test_images, test_labels) = mnist.load_data()"
      ],
      "execution_count": 16,
      "outputs": []
    },
    {
      "cell_type": "code",
      "metadata": {
        "id": "99Yz0MqULqb2"
      },
      "source": [
        "import matplotlib.pyplot as plt\n",
        "plt.imshow(training_images[0])\n",
        "print(training_labels[0])\n",
        "print(training_images[0])\n",
        "\n",
        "# printar a imagem e o rotulo\n",
        "# os numeros estao entre 0 e 255, para ficar mais facil pro computador eu normalizo deixando de 0 a 1"
      ],
      "execution_count": null,
      "outputs": []
    },
    {
      "cell_type": "code",
      "metadata": {
        "id": "PL7YDSXAMRpW"
      },
      "source": [
        "training_images  = training_images / 255.0\n",
        "test_images = test_images / 255.0\n",
        "# (normalização) deixar tudo entre 0 e 1\n",
        "# 1 conjunto de dados (training) vai ser o que vai ser usado para treinar a rede e o outro (a rede nao viu ainda) vai pra testar como esta se saindo"
      ],
      "execution_count": 34,
      "outputs": []
    },
    {
      "cell_type": "code",
      "metadata": {
        "id": "-F0Ac7N-MuRW"
      },
      "source": [
        "model = tf.keras.models.Sequential([tf.keras.layers.Flatten(), \n",
        "                                    tf.keras.layers.Dense(128, activation=tf.nn.relu),\n",
        "                                    #tf.keras.layers.Dense(256, activation=tf.nn.relu),  # essa camada intermediaria nao esta fazendo muito por ser dados muito simples\n",
        "                                    tf.keras.layers.Dense(10, activation=tf.nn.softmax)])\n",
        "# sequencia de camadas da rede neural\n",
        "\n",
        "#flatten() vai pegar a matriz e deixar unidimensional (array)\n",
        "\n",
        "#dense (adiciona uma camada de neuronios), cada camada precisa de uma funcao de ativação para dizer o que vai ser feito\n",
        "\n",
        "# relu significa basicamente    if (x > 0) return x, else return 0, só vai passar para a proxima camada valores 0 ou maiores\n",
        "\n",
        "# Softmax pega um conjunto de valores e efetivamente escolhe o maior, então, por exemplo, se a saída da última camada for semelhante a \n",
        "#[0,1, 0,1, 0,05, 0,1, 9,5, 0,1, 0,05, 0,05, 0,05], ele salva você pescar por ele procurando o maior valor e transformá-lo em [0,0,0,0,1,0,0,0,0] - \n",
        "#O objetivo é economizar muito código!"
      ],
      "execution_count": 45,
      "outputs": []
    },
    {
      "cell_type": "code",
      "metadata": {
        "colab": {
          "base_uri": "https://localhost:8080/"
        },
        "id": "75yfdwX0PVWK",
        "outputId": "2418acb4-e6b8-47e7-c846-b9a4f9cd4a98"
      },
      "source": [
        "model.compile(optimizer = tf.keras.optimizers.Adam(),\n",
        "              loss = 'sparse_categorical_crossentropy',\n",
        "              metrics=['accuracy'])\n",
        "\n",
        "model.fit(training_images, training_labels, epochs=5)"
      ],
      "execution_count": 46,
      "outputs": [
        {
          "output_type": "stream",
          "name": "stdout",
          "text": [
            "Epoch 1/5\n",
            "1875/1875 [==============================] - 13s 7ms/step - loss: 0.7203 - accuracy: 0.7352\n",
            "Epoch 2/5\n",
            "1875/1875 [==============================] - 12s 7ms/step - loss: 0.4807 - accuracy: 0.8258\n",
            "Epoch 3/5\n",
            "1875/1875 [==============================] - 12s 6ms/step - loss: 0.4245 - accuracy: 0.8452\n",
            "Epoch 4/5\n",
            "1875/1875 [==============================] - 12s 7ms/step - loss: 0.3943 - accuracy: 0.8562\n",
            "Epoch 5/5\n",
            "1875/1875 [==============================] - 12s 6ms/step - loss: 0.3710 - accuracy: 0.8642\n"
          ]
        },
        {
          "output_type": "execute_result",
          "data": {
            "text/plain": [
              "<keras.callbacks.History at 0x7f59efc15390>"
            ]
          },
          "metadata": {},
          "execution_count": 46
        }
      ]
    },
    {
      "cell_type": "code",
      "metadata": {
        "id": "WzlqsEzX9s5P",
        "colab": {
          "base_uri": "https://localhost:8080/"
        },
        "outputId": "7b8ba240-95ce-4946-82cb-ad1a64ae1eb8"
      },
      "source": [
        "model.evaluate(test_images, test_labels)"
      ],
      "execution_count": 47,
      "outputs": [
        {
          "output_type": "stream",
          "name": "stdout",
          "text": [
            "313/313 [==============================] - 1s 3ms/step - loss: 0.3968 - accuracy: 0.8566\n"
          ]
        },
        {
          "output_type": "execute_result",
          "data": {
            "text/plain": [
              "[0.39684659242630005, 0.8565999865531921]"
            ]
          },
          "metadata": {},
          "execution_count": 47
        }
      ]
    },
    {
      "cell_type": "code",
      "metadata": {
        "colab": {
          "base_uri": "https://localhost:8080/"
        },
        "id": "98v_-Od0QeR3",
        "outputId": "1544f527-caf1-4147-f432-01c5c0921be8"
      },
      "source": [
        "classifications = model.predict(test_images)\n",
        "\n",
        "print(classifications[0])\n",
        "print(test_labels[0])"
      ],
      "execution_count": 49,
      "outputs": [
        {
          "output_type": "stream",
          "name": "stdout",
          "text": [
            "[5.7099583e-06 2.8363718e-06 3.3073409e-06 1.2167455e-06 3.5019070e-06\n",
            " 1.4771810e-01 4.0673226e-06 1.9289595e-01 8.5091882e-04 6.5851438e-01]\n",
            "9\n"
          ]
        }
      ]
    }
  ]
}